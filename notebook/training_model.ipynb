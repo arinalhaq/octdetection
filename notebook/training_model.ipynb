{
 "cells": [
  {
   "cell_type": "code",
   "execution_count": null,
   "metadata": {
    "_cell_guid": "125c7566-18fe-4793-b435-75797b9cbac1",
    "_uuid": "1e8da4f8-3b65-4d90-9364-c36d7c2918cd",
    "execution": {
     "iopub.execute_input": "2021-06-17T00:43:24.915155Z",
     "iopub.status.busy": "2021-06-17T00:43:24.914512Z",
     "iopub.status.idle": "2021-06-17T00:43:26.472144Z",
     "shell.execute_reply": "2021-06-17T00:43:26.471127Z"
    },
    "papermill": {
     "duration": 1.568032,
     "end_time": "2021-06-17T00:43:26.472286",
     "exception": false,
     "start_time": "2021-06-17T00:43:24.904254",
     "status": "completed"
    },
    "tags": []
   },
   "outputs": [],
   "source": [
    "import copy\n",
    "import os\n",
    "\n",
    "import torch\n",
    "import torch.nn as nn\n",
    "import torch.optim as optim\n",
    "import torchvision\n",
    "import torchvision.transforms as transforms\n",
    "from tqdm import tqdm\n",
    "\n",
    "import matplotlib.pyplot as plt"
   ]
  },
  {
   "cell_type": "code",
   "execution_count": null,
   "metadata": {
    "_cell_guid": "127e3082-e278-4956-993a-0e14bf9c6e8c",
    "_uuid": "0a3c3a94-a44d-4f96-b930-74d0d2c3b9a4",
    "collapsed": false,
    "execution": {
     "iopub.execute_input": "2021-06-17T00:43:26.530446Z",
     "iopub.status.busy": "2021-06-17T00:43:26.529880Z",
     "iopub.status.idle": "2021-06-17T00:43:26.543047Z",
     "shell.execute_reply": "2021-06-17T00:43:26.541803Z"
    },
    "jupyter": {
     "outputs_hidden": false
    },
    "papermill": {
     "duration": 0.064446,
     "end_time": "2021-06-17T00:43:26.543147",
     "exception": false,
     "start_time": "2021-06-17T00:43:26.478701",
     "status": "completed"
    },
    "tags": []
   },
   "outputs": [],
   "source": [
    "device = torch.device('cuda') if torch.cuda.is_available() else torch.device('cpu')\n",
    "\n",
    "image_path = '../input/kermany2018/OCT2017 /'\n",
    "input_size = 224\n",
    "\n",
    "mean = [0.224, 0.224, 0.224]\n",
    "std = [0.1551, 0.1551, 0.1551]\n",
    "\n",
    "dataset_ratio = 0.9\n",
    "\n",
    "batch_size = 128\n",
    "num_epoch = 20\n",
    "CLASS_NAMES = list(os.listdir(image_path + 'train'))\n",
    "\n",
    "pretrained_model = 'inceptionv3'\n",
    "train_md = 'mod'"
   ]
  },
  {
   "cell_type": "code",
   "execution_count": null,
   "metadata": {
    "_cell_guid": "eda8277d-e310-497a-8642-e7045c8839b7",
    "_uuid": "0a7b14eb-5f29-42df-a0c1-6a7c8c43ce71",
    "collapsed": false,
    "execution": {
     "iopub.execute_input": "2021-06-17T00:43:26.563632Z",
     "iopub.status.busy": "2021-06-17T00:43:26.563070Z",
     "iopub.status.idle": "2021-06-17T00:45:18.826862Z",
     "shell.execute_reply": "2021-06-17T00:45:18.826137Z"
    },
    "jupyter": {
     "outputs_hidden": false
    },
    "papermill": {
     "duration": 112.277481,
     "end_time": "2021-06-17T00:45:18.826980",
     "exception": false,
     "start_time": "2021-06-17T00:43:26.549499",
     "status": "completed"
    },
    "tags": []
   },
   "outputs": [],
   "source": [
    "train_transform = transforms.Compose([\n",
    "    transforms.ToTensor(),\n",
    "    transforms.RandomResizedCrop(input_size),\n",
    "    transforms.Normalize((mean), (std))\n",
    "])\n",
    "\n",
    "val_transform = transforms.Compose([\n",
    "    transforms.ToTensor(),\n",
    "    transforms.CenterCrop(input_size),\n",
    "    transforms.Normalize((mean), (std))\n",
    "])\n",
    "\n",
    "image_dataset = {\n",
    "        'train': torchvision.datasets.ImageFolder(os.path.join(image_path, 'train'), train_transform),\n",
    "        'val': torchvision.datasets.ImageFolder(os.path.join(image_path, 'val'), val_transform)\n",
    "    }\n",
    "\n",
    "data_loader = {\n",
    "    x: torch.utils.data.DataLoader(image_dataset[x], batch_size=batch_size,\n",
    "                                    shuffle=True, num_workers=4)\n",
    "    for x in ['train', 'val']\n",
    "}"
   ]
  },
  {
   "cell_type": "code",
   "execution_count": null,
   "metadata": {
    "_cell_guid": "1acbabd1-779a-47e4-bff0-0c2ea768659e",
    "_kg_hide-input": false,
    "_uuid": "53ff52b1-5b40-4564-a881-151c1b50870d",
    "execution": {
     "iopub.execute_input": "2021-06-17T00:45:18.855449Z",
     "iopub.status.busy": "2021-06-17T00:45:18.854720Z",
     "iopub.status.idle": "2021-06-17T00:45:18.857338Z",
     "shell.execute_reply": "2021-06-17T00:45:18.857711Z"
    },
    "jupyter": {
     "source_hidden": true
    },
    "papermill": {
     "duration": 0.024172,
     "end_time": "2021-06-17T00:45:18.857819",
     "exception": false,
     "start_time": "2021-06-17T00:45:18.833647",
     "status": "completed"
    },
    "tags": []
   },
   "outputs": [],
   "source": [
    "def train_model():\n",
    "    accuracy_epoch = { 'train': [], 'val': [] }\n",
    "    loss_epoch = { 'train': [], 'val': [] }\n",
    "    best_model_wts = copy.deepcopy(model.state_dict())\n",
    "    best_acc = 0.0\n",
    "\n",
    "    for epoch in range(num_epoch):\n",
    "\n",
    "        for phase in ['train', 'val']:\n",
    "            model.train() if phase == 'train' else model.eval()\n",
    "\n",
    "            loop = tqdm(enumerate(data_loader[phase]), total=len(data_loader[phase]))\n",
    "            loop.set_description(f\"Epoch [{epoch + 1}/{num_epoch}]\")\n",
    "\n",
    "            running_loss = 0.0\n",
    "            running_corrects = 0\n",
    "            running_num = 0\n",
    "\n",
    "            for batch_idx, (inputs, labels) in loop:\n",
    "                inputs, labels = inputs.to(device), labels.to(device)\n",
    "                optimizer.zero_grad()\n",
    "\n",
    "                with torch.set_grad_enabled(phase == 'train'):\n",
    "                    outputs = model(inputs)\n",
    "                    _, preds = torch.max(outputs, 1)\n",
    "                    loss = criterion(outputs, labels)\n",
    "\n",
    "                    if phase == 'train':\n",
    "                        loss.backward()\n",
    "                        optimizer.step()\n",
    "\n",
    "                running_num += len(labels.data)\n",
    "                running_loss += loss.item() * inputs.size(0)\n",
    "                running_corrects += torch.sum(labels == preds)\n",
    "\n",
    "                loop.set_postfix(loss=(running_loss / running_num),\n",
    "                                 acc=(running_corrects.double() / running_num).item())\n",
    "\n",
    "            accuracy_epoch[phase].append((running_corrects.double() / running_num).item())\n",
    "            loss_epoch[phase].append(running_loss / running_num)\n",
    "\n",
    "            if phase == 'val' and accuracy_epoch[phase][epoch] >= best_acc:\n",
    "                best_acc = accuracy_epoch[phase][epoch]\n",
    "                best_model_wts = copy.deepcopy(model.state_dict())\n",
    "    model.load_state_dict(best_model_wts)\n",
    "\n",
    "    return { 'model': model, 'accuracy': accuracy_epoch, 'loss': loss_epoch }"
   ]
  },
  {
   "cell_type": "code",
   "execution_count": null,
   "metadata": {
    "_cell_guid": "030bc609-e28f-4220-9b70-1cdff42caada",
    "_uuid": "385979cb-74c4-445b-9fe4-ec6e0fbf2df6",
    "execution": {
     "iopub.execute_input": "2021-06-17T00:45:18.886952Z",
     "iopub.status.busy": "2021-06-17T00:45:18.883312Z",
     "iopub.status.idle": "2021-06-17T00:45:18.889145Z",
     "shell.execute_reply": "2021-06-17T00:45:18.889537Z"
    },
    "jupyter": {
     "source_hidden": true
    },
    "papermill": {
     "duration": 0.025291,
     "end_time": "2021-06-17T00:45:18.889654",
     "exception": false,
     "start_time": "2021-06-17T00:45:18.864363",
     "status": "completed"
    },
    "tags": []
   },
   "outputs": [],
   "source": [
    "def build_model(model_n, mmode=''):\n",
    "    if model_n == 'resnet18':\n",
    "        model = torchvision.models.resnet18(pretrained=True)\n",
    "    elif model_n == 'inceptionv3':\n",
    "        model = torchvision.models.inception_v3(pretrained=True)\n",
    "        model.aux_logits = False\n",
    "    elif model_n == 'resnext50_32x4d':\n",
    "        model = torchvision.models.resnext50_32x4d(pretrained=True)\n",
    "    else:\n",
    "        return 'No model with the name'\n",
    "\n",
    "    if mmode == '':\n",
    "        num_ftrs = model.fc.in_features\n",
    "        model.fc = nn.Linear(num_ftrs, 4)\n",
    "    elif mmode == 'mod':\n",
    "        num_ftrs = model.fc.in_features\n",
    "        model.fc = nn.Sequential(\n",
    "            nn.BatchNorm1d(num_ftrs),\n",
    "            nn.Linear(num_ftrs, 128),\n",
    "            nn.ReLU(),\n",
    "            nn.BatchNorm1d(128),\n",
    "            nn.Linear(128, 4)\n",
    "        )\n",
    "\n",
    "    model = model.to(device)\n",
    "\n",
    "    return model"
   ]
  },
  {
   "source": [
    "model = build_model(pretrained_model, train_md)\n",
    "\n",
    "criterion = nn.CrossEntropyLoss()\n",
    "optimizer = optim.Adam(model.parameters())\n",
    "\n",
    "output = train_model()"
   ],
   "cell_type": "code",
   "metadata": {
    "_cell_guid": "c132bb5b-dbaf-4314-b2db-ea34b632df26",
    "_uuid": "ebd029d2-3e33-42f3-8b39-466d9a57230a",
    "collapsed": false,
    "execution": {
     "iopub.execute_input": "2021-06-17T00:45:18.907266Z",
     "iopub.status.busy": "2021-06-17T00:45:18.906640Z",
     "iopub.status.idle": "2021-06-17T03:44:27.700126Z",
     "shell.execute_reply": "2021-06-17T03:44:27.700576Z"
    },
    "jupyter": {
     "outputs_hidden": false
    },
    "papermill": {
     "duration": 10748.804572,
     "end_time": "2021-06-17T03:44:27.700735",
     "exception": false,
     "start_time": "2021-06-17T00:45:18.896163",
     "status": "completed"
    },
    "tags": []
   },
   "execution_count": null,
   "outputs": []
  },
  {
   "cell_type": "code",
   "execution_count": null,
   "metadata": {
    "_cell_guid": "ab0e6925-3d99-4dc9-8a88-6cf043443982",
    "_uuid": "e7435e7a-2158-41f1-9505-946a9ebed973",
    "collapsed": false,
    "execution": {
     "iopub.execute_input": "2021-06-17T03:44:42.743966Z",
     "iopub.status.busy": "2021-06-17T03:44:42.743011Z",
     "iopub.status.idle": "2021-06-17T03:44:42.882942Z",
     "shell.execute_reply": "2021-06-17T03:44:42.882448Z"
    },
    "jupyter": {
     "outputs_hidden": false
    },
    "papermill": {
     "duration": 8.010706,
     "end_time": "2021-06-17T03:44:42.883039",
     "exception": false,
     "start_time": "2021-06-17T03:44:34.872333",
     "status": "completed"
    },
    "tags": []
   },
   "outputs": [],
   "source": [
    "torch.save(output, '/kaggle/working/inceptionv3-1_1.pth')"
   ]
  }
 ],
 "metadata": {
  "kernelspec": {
   "name": "python3",
   "display_name": "Python 3.8.5 64-bit ('pytorch': conda)"
  },
  "language_info": {
   "codemirror_mode": {
    "name": "ipython",
    "version": 3
   },
   "file_extension": ".py",
   "mimetype": "text/x-python",
   "name": "python",
   "nbconvert_exporter": "python",
   "pygments_lexer": "ipython3",
   "version": "3.8.5"
  },
  "papermill": {
   "duration": 10889.64156,
   "end_time": "2021-06-17T03:44:50.506923",
   "environment_variables": {},
   "exception": null,
   "input_path": "__notebook__.ipynb",
   "output_path": "__notebook__.ipynb",
   "parameters": {},
   "start_time": "2021-06-17T00:43:20.865363",
   "version": "2.1.0"
  },
  "widgets": {
   "application/vnd.jupyter.widget-state+json": {
    "state": {
     "210f033da60f4f4a95d127698fa98892": {
      "model_module": "@jupyter-widgets/controls",
      "model_module_version": "1.5.0",
      "model_name": "HBoxModel",
      "state": {
       "_dom_classes": [],
       "_model_module": "@jupyter-widgets/controls",
       "_model_module_version": "1.5.0",
       "_model_name": "HBoxModel",
       "_view_count": null,
       "_view_module": "@jupyter-widgets/controls",
       "_view_module_version": "1.5.0",
       "_view_name": "HBoxView",
       "box_style": "",
       "children": [
        "IPY_MODEL_6288e943113a40b8a71b35bea899959f",
        "IPY_MODEL_3e5fab1da7ef4760a0d52fa0bf9bd1fc"
       ],
       "layout": "IPY_MODEL_3e0d2b30e8aa4667b6fa9216da13da45"
      }
     },
     "3e0d2b30e8aa4667b6fa9216da13da45": {
      "model_module": "@jupyter-widgets/base",
      "model_module_version": "1.2.0",
      "model_name": "LayoutModel",
      "state": {
       "_model_module": "@jupyter-widgets/base",
       "_model_module_version": "1.2.0",
       "_model_name": "LayoutModel",
       "_view_count": null,
       "_view_module": "@jupyter-widgets/base",
       "_view_module_version": "1.2.0",
       "_view_name": "LayoutView",
       "align_content": null,
       "align_items": null,
       "align_self": null,
       "border": null,
       "bottom": null,
       "display": null,
       "flex": null,
       "flex_flow": null,
       "grid_area": null,
       "grid_auto_columns": null,
       "grid_auto_flow": null,
       "grid_auto_rows": null,
       "grid_column": null,
       "grid_gap": null,
       "grid_row": null,
       "grid_template_areas": null,
       "grid_template_columns": null,
       "grid_template_rows": null,
       "height": null,
       "justify_content": null,
       "justify_items": null,
       "left": null,
       "margin": null,
       "max_height": null,
       "max_width": null,
       "min_height": null,
       "min_width": null,
       "object_fit": null,
       "object_position": null,
       "order": null,
       "overflow": null,
       "overflow_x": null,
       "overflow_y": null,
       "padding": null,
       "right": null,
       "top": null,
       "visibility": null,
       "width": null
      }
     },
     "3e5fab1da7ef4760a0d52fa0bf9bd1fc": {
      "model_module": "@jupyter-widgets/controls",
      "model_module_version": "1.5.0",
      "model_name": "HTMLModel",
      "state": {
       "_dom_classes": [],
       "_model_module": "@jupyter-widgets/controls",
       "_model_module_version": "1.5.0",
       "_model_name": "HTMLModel",
       "_view_count": null,
       "_view_module": "@jupyter-widgets/controls",
       "_view_module_version": "1.5.0",
       "_view_name": "HTMLView",
       "description": "",
       "description_tooltip": null,
       "layout": "IPY_MODEL_844d3afc64304df6bf10887399318a1c",
       "placeholder": "​",
       "style": "IPY_MODEL_8e58c50b047d4885865df2ad554216c3",
       "value": " 44.7M/44.7M [2:59:22&lt;00:00, 4.35kB/s]"
      }
     },
     "6288e943113a40b8a71b35bea899959f": {
      "model_module": "@jupyter-widgets/controls",
      "model_module_version": "1.5.0",
      "model_name": "FloatProgressModel",
      "state": {
       "_dom_classes": [],
       "_model_module": "@jupyter-widgets/controls",
       "_model_module_version": "1.5.0",
       "_model_name": "FloatProgressModel",
       "_view_count": null,
       "_view_module": "@jupyter-widgets/controls",
       "_view_module_version": "1.5.0",
       "_view_name": "ProgressView",
       "bar_style": "success",
       "description": "100%",
       "description_tooltip": null,
       "layout": "IPY_MODEL_b5be76c7973a4bdcb56e01217cd157e8",
       "max": 46827520,
       "min": 0,
       "orientation": "horizontal",
       "style": "IPY_MODEL_77396b10dcd44e178b8464dfbde7dee7",
       "value": 46827520
      }
     },
     "77396b10dcd44e178b8464dfbde7dee7": {
      "model_module": "@jupyter-widgets/controls",
      "model_module_version": "1.5.0",
      "model_name": "ProgressStyleModel",
      "state": {
       "_model_module": "@jupyter-widgets/controls",
       "_model_module_version": "1.5.0",
       "_model_name": "ProgressStyleModel",
       "_view_count": null,
       "_view_module": "@jupyter-widgets/base",
       "_view_module_version": "1.2.0",
       "_view_name": "StyleView",
       "bar_color": null,
       "description_width": "initial"
      }
     },
     "844d3afc64304df6bf10887399318a1c": {
      "model_module": "@jupyter-widgets/base",
      "model_module_version": "1.2.0",
      "model_name": "LayoutModel",
      "state": {
       "_model_module": "@jupyter-widgets/base",
       "_model_module_version": "1.2.0",
       "_model_name": "LayoutModel",
       "_view_count": null,
       "_view_module": "@jupyter-widgets/base",
       "_view_module_version": "1.2.0",
       "_view_name": "LayoutView",
       "align_content": null,
       "align_items": null,
       "align_self": null,
       "border": null,
       "bottom": null,
       "display": null,
       "flex": null,
       "flex_flow": null,
       "grid_area": null,
       "grid_auto_columns": null,
       "grid_auto_flow": null,
       "grid_auto_rows": null,
       "grid_column": null,
       "grid_gap": null,
       "grid_row": null,
       "grid_template_areas": null,
       "grid_template_columns": null,
       "grid_template_rows": null,
       "height": null,
       "justify_content": null,
       "justify_items": null,
       "left": null,
       "margin": null,
       "max_height": null,
       "max_width": null,
       "min_height": null,
       "min_width": null,
       "object_fit": null,
       "object_position": null,
       "order": null,
       "overflow": null,
       "overflow_x": null,
       "overflow_y": null,
       "padding": null,
       "right": null,
       "top": null,
       "visibility": null,
       "width": null
      }
     },
     "8e58c50b047d4885865df2ad554216c3": {
      "model_module": "@jupyter-widgets/controls",
      "model_module_version": "1.5.0",
      "model_name": "DescriptionStyleModel",
      "state": {
       "_model_module": "@jupyter-widgets/controls",
       "_model_module_version": "1.5.0",
       "_model_name": "DescriptionStyleModel",
       "_view_count": null,
       "_view_module": "@jupyter-widgets/base",
       "_view_module_version": "1.2.0",
       "_view_name": "StyleView",
       "description_width": ""
      }
     },
     "b5be76c7973a4bdcb56e01217cd157e8": {
      "model_module": "@jupyter-widgets/base",
      "model_module_version": "1.2.0",
      "model_name": "LayoutModel",
      "state": {
       "_model_module": "@jupyter-widgets/base",
       "_model_module_version": "1.2.0",
       "_model_name": "LayoutModel",
       "_view_count": null,
       "_view_module": "@jupyter-widgets/base",
       "_view_module_version": "1.2.0",
       "_view_name": "LayoutView",
       "align_content": null,
       "align_items": null,
       "align_self": null,
       "border": null,
       "bottom": null,
       "display": null,
       "flex": null,
       "flex_flow": null,
       "grid_area": null,
       "grid_auto_columns": null,
       "grid_auto_flow": null,
       "grid_auto_rows": null,
       "grid_column": null,
       "grid_gap": null,
       "grid_row": null,
       "grid_template_areas": null,
       "grid_template_columns": null,
       "grid_template_rows": null,
       "height": null,
       "justify_content": null,
       "justify_items": null,
       "left": null,
       "margin": null,
       "max_height": null,
       "max_width": null,
       "min_height": null,
       "min_width": null,
       "object_fit": null,
       "object_position": null,
       "order": null,
       "overflow": null,
       "overflow_x": null,
       "overflow_y": null,
       "padding": null,
       "right": null,
       "top": null,
       "visibility": null,
       "width": null
      }
     }
    },
    "version_major": 2,
    "version_minor": 0
   }
  },
  "interpreter": {
   "hash": "4217e1075be2d31c486b1b4f734c3c1abb1c802dd46a3ba02dc3059a9883949f"
  }
 },
 "nbformat": 4,
 "nbformat_minor": 4
}